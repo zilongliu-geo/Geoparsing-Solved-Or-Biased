{
 "cells": [
  {
   "cell_type": "code",
   "execution_count": 1,
   "id": "8d2b50de",
   "metadata": {},
   "outputs": [],
   "source": [
    "import pandas as pd\n",
    "import os\n",
    "import xml.dom.minidom\n",
    "import xml.etree.cElementTree as et\n",
    "import numpy as np"
   ]
  },
  {
   "cell_type": "markdown",
   "id": "0d9e28b3",
   "metadata": {},
   "source": [
    "### Splitting LGL "
   ]
  },
  {
   "cell_type": "code",
   "execution_count": 2,
   "id": "c835fc6a",
   "metadata": {},
   "outputs": [],
   "source": [
    "xml_lgl = os.path.dirname(os.getcwd())+'\\\\data\\\\evaluation-corpora\\\\original-datasets\\\\lgl.xml'\n",
    "parsed_xml_lgl = et.parse(xml_lgl)"
   ]
  },
  {
   "cell_type": "code",
   "execution_count": 3,
   "id": "e6e851ba",
   "metadata": {},
   "outputs": [],
   "source": [
    "i = 0\n",
    "for article in parsed_xml_lgl.getroot():\n",
    "    i += 1\n",
    "    docid = article.attrib['docid']\n",
    "    text = article.find('text')\n",
    "    file = open(os.path.dirname(os.getcwd())+'\\\\data\\\\evaluation-corpora\\\\split-datasets\\\\LGL\\\\'+str(i)+'.txt','w',encoding='UTF-8')\n",
    "    text = text.text\n",
    "    file.write(text)\n",
    "    file.close()"
   ]
  },
  {
   "cell_type": "markdown",
   "id": "22162c33",
   "metadata": {},
   "source": [
    "### Splitting GeoVirus"
   ]
  },
  {
   "cell_type": "code",
   "execution_count": 4,
   "id": "2d6e9939",
   "metadata": {},
   "outputs": [],
   "source": [
    "xml_geovirus = os.path.dirname(os.getcwd())+'\\\\data\\\\evaluation-corpora\\\\original-datasets\\\\GeoVirus.xml'\n",
    "parsed_xml_geovirus = et.parse(xml_geovirus)"
   ]
  },
  {
   "cell_type": "code",
   "execution_count": 5,
   "id": "803844c1",
   "metadata": {},
   "outputs": [],
   "source": [
    "i = 0\n",
    "for article in parsed_xml_geovirus.getroot():\n",
    "    i += 1\n",
    "    text = article.find('text')\n",
    "    file = open(os.path.dirname(os.getcwd())+'\\\\data\\\\evaluation-corpora\\\\split-datasets\\\\GeoVirus\\\\'+str(i)+'.txt','w',encoding='UTF-8')\n",
    "    text = text.text\n",
    "    file.write(text)\n",
    "    file.close()"
   ]
  },
  {
   "cell_type": "markdown",
   "id": "3066d390",
   "metadata": {},
   "source": [
    "### Splitting WikToR"
   ]
  },
  {
   "cell_type": "code",
   "execution_count": 6,
   "id": "0653a196",
   "metadata": {},
   "outputs": [],
   "source": [
    "xml_wiktor = os.path.dirname(os.getcwd())+'\\\\data\\\\evaluation-corpora\\\\original-datasets\\\\WikToR.xml'\n",
    "parsed_xml_wiktor = et.parse(xml_wiktor)"
   ]
  },
  {
   "cell_type": "code",
   "execution_count": 7,
   "id": "9b909737",
   "metadata": {},
   "outputs": [],
   "source": [
    "i = 0\n",
    "for page in parsed_xml_wiktor.getroot():\n",
    "    pagenum = page.attrib['number']\n",
    "    i += 1\n",
    "    file = open(os.path.dirname(os.getcwd())+'\\\\data\\\\evaluation-corpora\\\\split-datasets\\\\WikToR\\\\'+str(i)+'.txt','w',encoding='UTF-8')\n",
    "    text = page.find('text').text\n",
    "    file.write(text)\n",
    "    file.close()"
   ]
  },
  {
   "cell_type": "code",
   "execution_count": null,
   "id": "4248e9c2",
   "metadata": {},
   "outputs": [],
   "source": []
  }
 ],
 "metadata": {
  "kernelspec": {
   "display_name": "Python 3",
   "language": "python",
   "name": "python3"
  },
  "language_info": {
   "codemirror_mode": {
    "name": "ipython",
    "version": 3
   },
   "file_extension": ".py",
   "mimetype": "text/x-python",
   "name": "python",
   "nbconvert_exporter": "python",
   "pygments_lexer": "ipython3",
   "version": "3.8.8"
  }
 },
 "nbformat": 4,
 "nbformat_minor": 5
}
