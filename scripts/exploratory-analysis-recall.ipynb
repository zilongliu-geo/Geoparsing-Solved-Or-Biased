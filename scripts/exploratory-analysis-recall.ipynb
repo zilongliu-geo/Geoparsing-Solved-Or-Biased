{
 "cells": [
  {
   "cell_type": "code",
   "execution_count": 1,
   "id": "30a9b1e7",
   "metadata": {},
   "outputs": [],
   "source": [
    "import pandas as pd\n",
    "import matplotlib.pyplot as plt\n",
    "import seaborn as sns\n",
    "import os"
   ]
  },
  {
   "cell_type": "code",
   "execution_count": 2,
   "id": "c98a6790",
   "metadata": {},
   "outputs": [],
   "source": [
    "dir_geoparsed_results = os.path.dirname(os.getcwd())"
   ]
  },
  {
   "cell_type": "markdown",
   "id": "55fdcaff",
   "metadata": {},
   "source": [
    "## Read Toponym Recognition Results"
   ]
  },
  {
   "cell_type": "code",
   "execution_count": 3,
   "id": "1133930c",
   "metadata": {},
   "outputs": [
    {
     "data": {
      "text/html": [
       "<div>\n",
       "<style scoped>\n",
       "    .dataframe tbody tr th:only-of-type {\n",
       "        vertical-align: middle;\n",
       "    }\n",
       "\n",
       "    .dataframe tbody tr th {\n",
       "        vertical-align: top;\n",
       "    }\n",
       "\n",
       "    .dataframe thead th {\n",
       "        text-align: right;\n",
       "    }\n",
       "</style>\n",
       "<table border=\"1\" class=\"dataframe\">\n",
       "  <thead>\n",
       "    <tr style=\"text-align: right;\">\n",
       "      <th></th>\n",
       "      <th>Unnamed: 0</th>\n",
       "      <th>geoNameId</th>\n",
       "      <th>toponym</th>\n",
       "      <th>longitude</th>\n",
       "      <th>latitude</th>\n",
       "      <th>recall</th>\n",
       "    </tr>\n",
       "  </thead>\n",
       "  <tbody>\n",
       "    <tr>\n",
       "      <th>0</th>\n",
       "      <td>0</td>\n",
       "      <td>2324433.0</td>\n",
       "      <td>Rivers State</td>\n",
       "      <td>6.82766</td>\n",
       "      <td>4.74974</td>\n",
       "      <td>0.500000</td>\n",
       "    </tr>\n",
       "    <tr>\n",
       "      <th>1</th>\n",
       "      <td>1</td>\n",
       "      <td>2328926.0</td>\n",
       "      <td>Federal Republic of Nigeria</td>\n",
       "      <td>8.00000</td>\n",
       "      <td>10.00000</td>\n",
       "      <td>0.000000</td>\n",
       "    </tr>\n",
       "    <tr>\n",
       "      <th>2</th>\n",
       "      <td>6</td>\n",
       "      <td>4829764.0</td>\n",
       "      <td>Alabama</td>\n",
       "      <td>-86.75026</td>\n",
       "      <td>32.75041</td>\n",
       "      <td>0.666667</td>\n",
       "    </tr>\n",
       "    <tr>\n",
       "      <th>3</th>\n",
       "      <td>10</td>\n",
       "      <td>2215636.0</td>\n",
       "      <td>Libya</td>\n",
       "      <td>17.00000</td>\n",
       "      <td>28.00000</td>\n",
       "      <td>0.625000</td>\n",
       "    </tr>\n",
       "    <tr>\n",
       "      <th>4</th>\n",
       "      <td>12</td>\n",
       "      <td>130758.0</td>\n",
       "      <td>Islamic Republic of Iran</td>\n",
       "      <td>53.00000</td>\n",
       "      <td>32.00000</td>\n",
       "      <td>0.000000</td>\n",
       "    </tr>\n",
       "  </tbody>\n",
       "</table>\n",
       "</div>"
      ],
      "text/plain": [
       "   Unnamed: 0  geoNameId                      toponym  longitude  latitude  \\\n",
       "0           0  2324433.0                 Rivers State    6.82766   4.74974   \n",
       "1           1  2328926.0  Federal Republic of Nigeria    8.00000  10.00000   \n",
       "2           6  4829764.0                      Alabama  -86.75026  32.75041   \n",
       "3          10  2215636.0                        Libya   17.00000  28.00000   \n",
       "4          12   130758.0     Islamic Republic of Iran   53.00000  32.00000   \n",
       "\n",
       "     recall  \n",
       "0  0.500000  \n",
       "1  0.000000  \n",
       "2  0.666667  \n",
       "3  0.625000  \n",
       "4  0.000000  "
      ]
     },
     "execution_count": 3,
     "metadata": {},
     "output_type": "execute_result"
    }
   ],
   "source": [
    "df_geocorpora_spacy = pd.read_csv(dir_geoparsed_results+'\\\\geoparsed-results\\\\geocorpora_geotagged_results_spaCy.csv')\n",
    "df_geocorpora_spacy.head()"
   ]
  },
  {
   "cell_type": "code",
   "execution_count": 4,
   "id": "95520b5e",
   "metadata": {},
   "outputs": [
    {
     "data": {
      "text/html": [
       "<div>\n",
       "<style scoped>\n",
       "    .dataframe tbody tr th:only-of-type {\n",
       "        vertical-align: middle;\n",
       "    }\n",
       "\n",
       "    .dataframe tbody tr th {\n",
       "        vertical-align: top;\n",
       "    }\n",
       "\n",
       "    .dataframe thead th {\n",
       "        text-align: right;\n",
       "    }\n",
       "</style>\n",
       "<table border=\"1\" class=\"dataframe\">\n",
       "  <thead>\n",
       "    <tr style=\"text-align: right;\">\n",
       "      <th></th>\n",
       "      <th>Unnamed: 0</th>\n",
       "      <th>geoNameId</th>\n",
       "      <th>toponym</th>\n",
       "      <th>longitude</th>\n",
       "      <th>latitude</th>\n",
       "      <th>recall</th>\n",
       "    </tr>\n",
       "  </thead>\n",
       "  <tbody>\n",
       "    <tr>\n",
       "      <th>0</th>\n",
       "      <td>0</td>\n",
       "      <td>2324433.0</td>\n",
       "      <td>Rivers State</td>\n",
       "      <td>6.82766</td>\n",
       "      <td>4.74974</td>\n",
       "      <td>0.500000</td>\n",
       "    </tr>\n",
       "    <tr>\n",
       "      <th>1</th>\n",
       "      <td>1</td>\n",
       "      <td>2328926.0</td>\n",
       "      <td>Federal Republic of Nigeria</td>\n",
       "      <td>8.00000</td>\n",
       "      <td>10.00000</td>\n",
       "      <td>0.000000</td>\n",
       "    </tr>\n",
       "    <tr>\n",
       "      <th>2</th>\n",
       "      <td>6</td>\n",
       "      <td>4829764.0</td>\n",
       "      <td>Alabama</td>\n",
       "      <td>-86.75026</td>\n",
       "      <td>32.75041</td>\n",
       "      <td>0.666667</td>\n",
       "    </tr>\n",
       "    <tr>\n",
       "      <th>3</th>\n",
       "      <td>10</td>\n",
       "      <td>2215636.0</td>\n",
       "      <td>Libya</td>\n",
       "      <td>17.00000</td>\n",
       "      <td>28.00000</td>\n",
       "      <td>0.625000</td>\n",
       "    </tr>\n",
       "    <tr>\n",
       "      <th>4</th>\n",
       "      <td>12</td>\n",
       "      <td>130758.0</td>\n",
       "      <td>Islamic Republic of Iran</td>\n",
       "      <td>53.00000</td>\n",
       "      <td>32.00000</td>\n",
       "      <td>0.000000</td>\n",
       "    </tr>\n",
       "  </tbody>\n",
       "</table>\n",
       "</div>"
      ],
      "text/plain": [
       "   Unnamed: 0  geoNameId                      toponym  longitude  latitude  \\\n",
       "0           0  2324433.0                 Rivers State    6.82766   4.74974   \n",
       "1           1  2328926.0  Federal Republic of Nigeria    8.00000  10.00000   \n",
       "2           6  4829764.0                      Alabama  -86.75026  32.75041   \n",
       "3          10  2215636.0                        Libya   17.00000  28.00000   \n",
       "4          12   130758.0     Islamic Republic of Iran   53.00000  32.00000   \n",
       "\n",
       "     recall  \n",
       "0  0.500000  \n",
       "1  0.000000  \n",
       "2  0.666667  \n",
       "3  0.625000  \n",
       "4  0.000000  "
      ]
     },
     "execution_count": 4,
     "metadata": {},
     "output_type": "execute_result"
    }
   ],
   "source": [
    "df_geocorpora_neurotpr = pd.read_csv(dir_geoparsed_results+'\\\\geoparsed-results\\\\geocorpora_geotagged_results_NeuroTPR.csv')\n",
    "df_geocorpora_neurotpr.head()"
   ]
  },
  {
   "cell_type": "code",
   "execution_count": 5,
   "id": "f6db9c0d",
   "metadata": {},
   "outputs": [
    {
     "data": {
      "image/png": "[encoded data removed]",
      "text/plain": [
       "<Figure size 360x360 with 1 Axes>"
      ]
     },
     "metadata": {
      "needs_background": "light"
     },
     "output_type": "display_data"
    }
   ],
   "source": [
    "sns.displot(df_geocorpora_spacy, x=\"recall\", stat=\"probability\")\n",
    "plt.xlabel('Recall', fontsize=14)\n",
    "plt.ylabel('Normalized Frequency', fontsize=14)\n",
    "plt.title('GeoCorpora - spaCy', fontsize = 18)\n",
    "plt.ylim(0,1)\n",
    "plt.margins(x = 0)"
   ]
  },
  {
   "cell_type": "code",
   "execution_count": 6,
   "id": "7f3df1fb",
   "metadata": {},
   "outputs": [
    {
     "data": {
      "image/png": "[encoded data removed]",
      "text/plain": [
       "<Figure size 360x360 with 1 Axes>"
      ]
     },
     "metadata": {
      "needs_background": "light"
     },
     "output_type": "display_data"
    }
   ],
   "source": [
    "sns.displot(df_geocorpora_neurotpr, x=\"recall\", stat=\"probability\")\n",
    "plt.xlabel('Recall', fontsize=14)\n",
    "plt.ylabel('Normalized Frequency', fontsize=14)\n",
    "plt.title('GeoCorpora - NeuroTPR', fontsize = 18)\n",
    "plt.ylim(0, 1)\n",
    "plt.margins(x = 0)"
   ]
  },
  {
   "cell_type": "code",
   "execution_count": null,
   "id": "eb23f0e1",
   "metadata": {},
   "outputs": [],
   "source": []
  }
 ],
 "metadata": {
  "kernelspec": {
   "display_name": "Python 3",
   "language": "python",
   "name": "python3"
  },
  "language_info": {
   "codemirror_mode": {
    "name": "ipython",
    "version": 3
   },
   "file_extension": ".py",
   "mimetype": "text/x-python",
   "name": "python",
   "nbconvert_exporter": "python",
   "pygments_lexer": "ipython3",
   "version": "3.8.8"
  }
 },
 "nbformat": 4,
 "nbformat_minor": 5
}
